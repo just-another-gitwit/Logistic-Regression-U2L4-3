{
 "cells": [
  {
   "cell_type": "code",
   "execution_count": 1,
   "metadata": {
    "collapsed": false
   },
   "outputs": [
    {
     "name": "stdout",
     "output_type": "stream",
     "text": [
      "Optimization terminated successfully.\n",
      "         Current function value: 0.319503\n",
      "         Iterations 8\n",
      "Intercept          -60.125045\n",
      "FICO.Score           0.087423\n",
      "Amount.Requested    -0.000174\n",
      "dtype: float64\n"
     ]
    }
   ],
   "source": [
    "import pandas as pd\n",
    "import statsmodels.api as sm\n",
    "\n",
    "df = pd.read_csv('loansData_clean.csv')\n",
    "\n",
    "# add column to df to show interest rate is if < 12%\n",
    "# derive column from interest rate column & name it IR_TF\n",
    "# contains binary values, i.e., '0' when interest<12% or\n",
    "# '1' when interest is >=12%\n",
    "df['IR_TF'] = df['Interest.Rate'].map(lambda x: x<0.12)\n",
    "\n",
    "# add column with constant intercept of 1.0\n",
    "df['Intercept'] = 1\n",
    "\n",
    "# create list of column names of independent variables,\n",
    "# including the intercept, and call it ind_vars\n",
    "\n",
    "ind_vars = ['Intercept', 'FICO.Score', 'Amount.Requested']\n",
    "\n",
    "# define logistic regression\n",
    "logit = sm.Logit(df['IR_TF'], df[ind_vars])\n",
    "\n",
    "# fit the model\n",
    "result = logit.fit()\n",
    "\n",
    "# get fitted coefficients from results\n",
    "coeff = result.params\n",
    "print coeff\n",
    "\n",
    "\n",
    "#there seems to be discrepancy between amount requested as part of printed coeff variable\n",
    "#and when it is shown in summary\n",
    "\n",
    "#also, do i need to fit a linear model first before using logit in statmodels?\n"
   ]
  },
  {
   "cell_type": "code",
   "execution_count": 2,
   "metadata": {
    "collapsed": false
   },
   "outputs": [
    {
     "data": {
      "text/html": [
       "<table class=\"simpletable\">\n",
       "<caption>Logit Regression Results</caption>\n",
       "<tr>\n",
       "  <th>Dep. Variable:</th>       <td>IR_TF</td>      <th>  No. Observations:  </th>  <td>  2500</td> \n",
       "</tr>\n",
       "<tr>\n",
       "  <th>Model:</th>               <td>Logit</td>      <th>  Df Residuals:      </th>  <td>  2497</td> \n",
       "</tr>\n",
       "<tr>\n",
       "  <th>Method:</th>               <td>MLE</td>       <th>  Df Model:          </th>  <td>     2</td> \n",
       "</tr>\n",
       "<tr>\n",
       "  <th>Date:</th>          <td>Sun, 21 Jun 2015</td> <th>  Pseudo R-squ.:     </th>  <td>0.5243</td> \n",
       "</tr>\n",
       "<tr>\n",
       "  <th>Time:</th>              <td>19:52:59</td>     <th>  Log-Likelihood:    </th> <td> -798.76</td>\n",
       "</tr>\n",
       "<tr>\n",
       "  <th>converged:</th>           <td>True</td>       <th>  LL-Null:           </th> <td> -1679.2</td>\n",
       "</tr>\n",
       "<tr>\n",
       "  <th> </th>                      <td> </td>        <th>  LLR p-value:       </th>  <td> 0.000</td> \n",
       "</tr>\n",
       "</table>\n",
       "<table class=\"simpletable\">\n",
       "<tr>\n",
       "          <td></td>            <th>coef</th>     <th>std err</th>      <th>z</th>      <th>P>|z|</th> <th>[95.0% Conf. Int.]</th> \n",
       "</tr>\n",
       "<tr>\n",
       "  <th>Intercept</th>        <td>  -60.1250</td> <td>    2.420</td> <td>  -24.840</td> <td> 0.000</td> <td>  -64.869   -55.381</td>\n",
       "</tr>\n",
       "<tr>\n",
       "  <th>FICO.Score</th>       <td>    0.0874</td> <td>    0.004</td> <td>   24.779</td> <td> 0.000</td> <td>    0.081     0.094</td>\n",
       "</tr>\n",
       "<tr>\n",
       "  <th>Amount.Requested</th> <td>   -0.0002</td> <td>  1.1e-05</td> <td>  -15.815</td> <td> 0.000</td> <td>   -0.000    -0.000</td>\n",
       "</tr>\n",
       "</table>"
      ],
      "text/plain": [
       "<class 'statsmodels.iolib.summary.Summary'>\n",
       "\"\"\"\n",
       "                           Logit Regression Results                           \n",
       "==============================================================================\n",
       "Dep. Variable:                  IR_TF   No. Observations:                 2500\n",
       "Model:                          Logit   Df Residuals:                     2497\n",
       "Method:                           MLE   Df Model:                            2\n",
       "Date:                Sun, 21 Jun 2015   Pseudo R-squ.:                  0.5243\n",
       "Time:                        19:52:59   Log-Likelihood:                -798.76\n",
       "converged:                       True   LL-Null:                       -1679.2\n",
       "                                        LLR p-value:                     0.000\n",
       "====================================================================================\n",
       "                       coef    std err          z      P>|z|      [95.0% Conf. Int.]\n",
       "------------------------------------------------------------------------------------\n",
       "Intercept          -60.1250      2.420    -24.840      0.000       -64.869   -55.381\n",
       "FICO.Score           0.0874      0.004     24.779      0.000         0.081     0.094\n",
       "Amount.Requested    -0.0002    1.1e-05    -15.815      0.000        -0.000    -0.000\n",
       "====================================================================================\n",
       "\"\"\""
      ]
     },
     "execution_count": 2,
     "metadata": {},
     "output_type": "execute_result"
    }
   ],
   "source": [
    "# print logit regression results\n",
    "result.summary()"
   ]
  },
  {
   "cell_type": "code",
   "execution_count": 3,
   "metadata": {
    "collapsed": false
   },
   "outputs": [
    {
     "name": "stdout",
     "output_type": "stream",
     "text": [
      "logistic function is 0\n",
      "\n",
      "pv is (0.25362141104848729, 720, 10000)\n",
      "\n",
      "\n",
      "Given the Loan Amount, 10000, and the FICO Score, 720, you are LIKELY to get this loan <=12% interest.\n"
     ]
    }
   ],
   "source": [
    "import numpy as np\n",
    "\n",
    "# fico and loan amount to the logistic function\n",
    "fico = 720\n",
    "loan_amt = 10000\n",
    "\n",
    "# define logistic function\n",
    "def logistic_function(c, FS, LA):\n",
    "    z = c[0] + c[1]*FS + c[2]*LA # linear part of predictor\n",
    "    p = 1/(1+np.e**z) # logistic function\n",
    "    print \"logistic function is %d\" % p + \"\\n\" # see value for logistic function\n",
    "    return p, FS, LA\n",
    "   \n",
    "# define pred function\n",
    "def pred(pv, FS, LA):\n",
    "    print \"pv is {0}\".format(pv) # see pv value for pred function\n",
    "    print \"\\n\"\n",
    "    if pv < 0.7:\n",
    "        print \"Given the Loan Amount, {1}, and the FICO Score, {0}, you are UNLIKELY to get this loan <=12% interest.\".format(FS, LA)\n",
    "    else: \n",
    "        print \"Given the Loan Amount, {1}, and the FICO Score, {0}, you are LIKELY to get this loan <=12% interest.\".format(FS, LA)\n",
    "\n",
    "\n",
    "pval = logistic_function(coeff, fico, loan_amt) # this defines pval\n",
    "pred(pval, fico, loan_amt) # what does this do? puts pval, fico, loan_amt values for pv, FS, LA?       \n",
    "\n",
    "#not sure how this code works\n",
    "#logistic function prints out zero--what does that mean?\n",
    "#pv value doesn't make sense when i print it\n"
   ]
  },
  {
   "cell_type": "code",
   "execution_count": null,
   "metadata": {
    "collapsed": true
   },
   "outputs": [],
   "source": []
  }
 ],
 "metadata": {
  "kernelspec": {
   "display_name": "Python 2",
   "language": "python",
   "name": "python2"
  },
  "language_info": {
   "codemirror_mode": {
    "name": "ipython",
    "version": 2
   },
   "file_extension": ".py",
   "mimetype": "text/x-python",
   "name": "python",
   "nbconvert_exporter": "python",
   "pygments_lexer": "ipython2",
   "version": "2.7.9"
  }
 },
 "nbformat": 4,
 "nbformat_minor": 0
}
